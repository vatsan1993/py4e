{
 "cells": [
  {
   "cell_type": "code",
   "execution_count": 4,
   "id": "97967f86",
   "metadata": {},
   "outputs": [
    {
     "name": "stdout",
     "output_type": "stream",
     "text": [
      "Enter file name: \n",
      "cwen@iupui.edu 5\n",
      "zqian@umich.edu 4\n",
      "david.horwitz@uct.ac.za 4\n",
      "louis@media.berkeley.edu 3\n",
      "gsilver@umich.edu 3\n",
      "stephen.marquard@uct.ac.za 2\n",
      "rjlowe@iupui.edu 2\n",
      "wagnermr@iupui.edu 1\n",
      "antranig@caret.cam.ac.uk 1\n",
      "gopal.ramasammycook@gmail.com 1\n"
     ]
    }
   ],
   "source": [
    "import sqlite3\n",
    "conn= sqlite3.connect('emaildb.sqlite')\n",
    "cur = conn.cursor()\n",
    "cur.execute('DROP TABLE IF EXISTS Counts')\n",
    "\n",
    "cur.execute('CREATE TABLE Counts(email TEXT, count INTEGER)')\n",
    "\n",
    "fname= input('Enter file name: ')\n",
    "if(len(fname)<1): \n",
    "    fname= 'mbox-short.txt'\n",
    "fh= open(fname)\n",
    "for line in fh:\n",
    "    if not line.startswith('From: '):\n",
    "        continue\n",
    "    pieces= line.split()\n",
    "    email=pieces[1]\n",
    "    cur.execute('SELECT count FROM Counts WHERE email = ?', (email,))\n",
    "    row= cur.fetchone()\n",
    "    if row is None:\n",
    "        cur.execute('''INSERT INTO Counts (email, count)\n",
    "        VALUES (?, 1)''', (email,))\n",
    "    else:\n",
    "        cur.execute('''UPDATE Counts SET count=count+1 where email=?''',(email,))\n",
    "sqlstr='''SELECT email,count FROM Counts ORDER BY count DESC LIMIT 10'''  \n",
    "for row in cur.execute(sqlstr):\n",
    "    print(str(row[0]), str(row[1]))\n",
    "    "
   ]
  },
  {
   "cell_type": "code",
   "execution_count": null,
   "id": "64497823",
   "metadata": {},
   "outputs": [],
   "source": []
  }
 ],
 "metadata": {
  "kernelspec": {
   "display_name": "Python 3",
   "language": "python",
   "name": "python3"
  },
  "language_info": {
   "codemirror_mode": {
    "name": "ipython",
    "version": 3
   },
   "file_extension": ".py",
   "mimetype": "text/x-python",
   "name": "python",
   "nbconvert_exporter": "python",
   "pygments_lexer": "ipython3",
   "version": "3.8.8"
  }
 },
 "nbformat": 4,
 "nbformat_minor": 5
}
