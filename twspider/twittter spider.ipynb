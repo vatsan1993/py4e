{
 "cells": [
  {
   "cell_type": "code",
   "execution_count": 1,
   "id": "1a10b974",
   "metadata": {},
   "outputs": [
    {
     "name": "stdout",
     "output_type": "stream",
     "text": [
      "Collecting tweepy\n",
      "  Downloading tweepy-4.5.0-py2.py3-none-any.whl (66 kB)\n",
      "Collecting requests<3,>=2.27.0\n",
      "  Downloading requests-2.27.1-py2.py3-none-any.whl (63 kB)\n",
      "Collecting requests-oauthlib<2,>=1.0.0\n",
      "  Downloading requests_oauthlib-1.3.1-py2.py3-none-any.whl (23 kB)\n",
      "Requirement already satisfied: certifi>=2017.4.17 in c:\\users\\vatsanaer3\\anaconda3\\lib\\site-packages (from requests<3,>=2.27.0->tweepy) (2020.12.5)\n",
      "Requirement already satisfied: urllib3<1.27,>=1.21.1 in c:\\users\\vatsanaer3\\anaconda3\\lib\\site-packages (from requests<3,>=2.27.0->tweepy) (1.26.4)\n",
      "Requirement already satisfied: idna<4,>=2.5 in c:\\users\\vatsanaer3\\anaconda3\\lib\\site-packages (from requests<3,>=2.27.0->tweepy) (2.10)\n",
      "Collecting charset-normalizer~=2.0.0\n",
      "  Downloading charset_normalizer-2.0.12-py3-none-any.whl (39 kB)\n",
      "Collecting oauthlib>=3.0.0\n",
      "  Downloading oauthlib-3.2.0-py3-none-any.whl (151 kB)\n",
      "Installing collected packages: charset-normalizer, requests, oauthlib, requests-oauthlib, tweepy\n",
      "  Attempting uninstall: requests\n",
      "    Found existing installation: requests 2.25.1\n",
      "    Uninstalling requests-2.25.1:\n",
      "      Successfully uninstalled requests-2.25.1\n",
      "Successfully installed charset-normalizer-2.0.12 oauthlib-3.2.0 requests-2.27.1 requests-oauthlib-1.3.1 tweepy-4.5.0\n"
     ]
    },
    {
     "name": "stderr",
     "output_type": "stream",
     "text": [
      "ERROR: pip's dependency resolver does not currently take into account all the packages that are installed. This behaviour is the source of the following dependency conflicts.\n",
      "conda-repo-cli 1.0.4 requires pathlib, which is not installed.\n",
      "anaconda-project 0.9.1 requires ruamel-yaml, which is not installed.\n"
     ]
    }
   ],
   "source": [
    "!pip install tweepy"
   ]
  },
  {
   "cell_type": "code",
   "execution_count": 1,
   "id": "223729a4",
   "metadata": {},
   "outputs": [],
   "source": [
    "import tweepy\n",
    "import sqlite3"
   ]
  },
  {
   "cell_type": "code",
   "execution_count": 2,
   "id": "069c67bf",
   "metadata": {},
   "outputs": [],
   "source": [
    "# auth = tweepy.OAuth1UserHandler(\n",
    "#    consumer_key, consumer_secret, access_token, access_token_secret\n",
    "# )\n",
    "\n",
    "api = tweepy.API(auth)\n",
    "\n",
    "# public_tweets = api.home_timeline()\n",
    "# for tweet in public_tweets:\n",
    "#     print(tweet.text)"
   ]
  },
  {
   "cell_type": "code",
   "execution_count": 3,
   "id": "274039d2",
   "metadata": {},
   "outputs": [
    {
     "name": "stdout",
     "output_type": "stream",
     "text": [
      "CHARANJITCHANNI\n",
      "Bhupendrapbjp\n",
      "BSBommai\n",
      "jairamthakurbjp\n",
      "byadavbjp\n",
      "RCP_Singh\n",
      "JM_Scindia\n",
      "AshwiniVaishnaw\n",
      "MeNarayanRane\n",
      "pushkardhami\n"
     ]
    }
   ],
   "source": [
    "user = api.get_user(screen_name='PMOIndia')\n",
    "for friend in user.friends()[:10]:\n",
    "    print(friend.screen_name)"
   ]
  },
  {
   "cell_type": "code",
   "execution_count": 4,
   "id": "7c409da6",
   "metadata": {},
   "outputs": [
    {
     "name": "stdout",
     "output_type": "stream",
     "text": [
      "(1, 'PMOIndia', 1)\n",
      "(2, 'CHARANJITCHANNI', 0)\n",
      "(3, 'Bhupendrapbjp', 0)\n",
      "(4, 'BSBommai', 0)\n",
      "(5, 'jairamthakurbjp', 0)\n",
      "(6, 'byadavbjp', 0)\n",
      "(7, 'RCP_Singh', 1)\n",
      "(8, 'JM_Scindia', 1)\n",
      "(9, 'AshwiniVaishnaw', 0)\n",
      "(10, 'MeNarayanRane', 0)\n",
      "(11, 'pushkardhami', 0)\n",
      "(12, 'OfficeOfVKS', 0)\n",
      "(13, 'arorashreeya', 0)\n",
      "(14, 'AmritMahotsav', 0)\n",
      "(15, 'PRupala', 0)\n",
      "(16, 'BSF_India', 0)\n",
      "(17, 'JoshiPralhad', 0)\n",
      "(18, 'nityanandraibjp', 0)\n",
      "(19, 'ShobhaBJP', 0)\n",
      "(20, 'BJPLive', 0)\n",
      "(21, 'adgpi', 0)\n",
      "(22, 'NASA', 0)\n",
      "(23, 'esa', 0)\n",
      "(24, 'nischal_neha', 0)\n",
      "(25, 'NDRFHQ', 0)\n",
      "(26, 'IndiaCoastGuard', 0)\n",
      "(27, 'IAF_MCC', 0)\n",
      "(28, 'indiannavy', 0)\n",
      "(29, 'ADevvrat', 0)\n",
      "Enter account name or quit: ADevvrat\n",
      "(1, 'PMOIndia', 1)\n",
      "(2, 'CHARANJITCHANNI', 0)\n",
      "(3, 'Bhupendrapbjp', 0)\n",
      "(4, 'BSBommai', 0)\n",
      "(5, 'jairamthakurbjp', 0)\n",
      "(6, 'byadavbjp', 0)\n",
      "(7, 'RCP_Singh', 1)\n",
      "(8, 'JM_Scindia', 1)\n",
      "(9, 'AshwiniVaishnaw', 0)\n",
      "(10, 'MeNarayanRane', 0)\n",
      "(11, 'pushkardhami', 0)\n",
      "(12, 'OfficeOfVKS', 0)\n",
      "(13, 'arorashreeya', 0)\n",
      "(14, 'AmritMahotsav', 0)\n",
      "(15, 'PRupala', 0)\n",
      "(16, 'BSF_India', 0)\n",
      "(17, 'JoshiPralhad', 0)\n",
      "(18, 'nityanandraibjp', 0)\n",
      "(19, 'ShobhaBJP', 0)\n",
      "(20, 'BJPLive', 0)\n",
      "(21, 'adgpi', 0)\n",
      "(22, 'NASA', 0)\n",
      "(23, 'esa', 0)\n",
      "(24, 'nischal_neha', 0)\n",
      "(25, 'NDRFHQ', 0)\n",
      "(26, 'IndiaCoastGuard', 0)\n",
      "(27, 'IAF_MCC', 0)\n",
      "(28, 'indiannavy', 0)\n",
      "(29, 'ADevvrat', 1)\n",
      "(30, 'PulkitSoniADC', 0)\n",
      "(31, 'DefencePRO_Guj', 0)\n",
      "(32, 'GovernorofGuj', 0)\n",
      "(33, 'sanghaviharsh', 0)\n",
      "(34, 'jitu_vaghani', 0)\n",
      "(35, 'vijayrupanibjp', 0)\n",
      "(36, 'rashtrapatibhvn', 0)\n",
      "(37, 'cmohry', 0)\n",
      "(38, 'myogiadityanath', 0)\n",
      "Enter account name or quit: quit\n"
     ]
    }
   ],
   "source": [
    "conn = sqlite3.connect('friends.sqlite')\n",
    "cur = conn.cursor()\n",
    "\n",
    "cur.execute('''CREATE TABLE IF NOT EXISTS People\n",
    "            (id INTEGER PRIMARY KEY, name TEXT UNIQUE, retrieved INTEGER)''')\n",
    "\n",
    "\n",
    "while True:\n",
    "    cur.execute('SELECT * FROM People')\n",
    "    data= cur.fetchall()\n",
    "    for person in data:\n",
    "        print(person)\n",
    "    acc_name= input('Enter account name or quit: ')\n",
    "    if acc_name== 'quit':\n",
    "        break\n",
    "    \n",
    "    cur.execute('SELECT * FROM People WHERE name = ?', (acc_name,))\n",
    "    data=cur.fetchone()\n",
    "    if data==None:\n",
    "        cur.execute('INSERT OR IGNORE INTO People (name, retrieved) VALUES(?,1)',(acc_name,))\n",
    "        conn.commit()\n",
    "    else:\n",
    "        if data[2]== 1:\n",
    "            print('Already retrieved! ')\n",
    "            continue\n",
    "        \n",
    "        cur.execute('UPDATE People SET retrieved=1 where name=?',(acc_name,))\n",
    "        conn.commit()\n",
    "        \n",
    "    #Retrieving friends\n",
    "    user = api.get_user(screen_name=acc_name)\n",
    "    for friend in user.friends()[:10]:\n",
    "        cur.execute('INSERT OR IGNORE INTO People (name, retrieved) VALUES(?,0)',(friend.screen_name,))\n",
    "        conn.commit()"
   ]
  },
  {
   "cell_type": "code",
   "execution_count": null,
   "id": "88373859",
   "metadata": {},
   "outputs": [],
   "source": []
  }
 ],
 "metadata": {
  "kernelspec": {
   "display_name": "Python 3",
   "language": "python",
   "name": "python3"
  },
  "language_info": {
   "codemirror_mode": {
    "name": "ipython",
    "version": 3
   },
   "file_extension": ".py",
   "mimetype": "text/x-python",
   "name": "python",
   "nbconvert_exporter": "python",
   "pygments_lexer": "ipython3",
   "version": "3.8.8"
  }
 },
 "nbformat": 4,
 "nbformat_minor": 5
}
