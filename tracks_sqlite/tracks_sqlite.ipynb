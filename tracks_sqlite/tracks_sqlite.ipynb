{
 "cells": [
  {
   "cell_type": "code",
   "execution_count": 24,
   "id": "5bc13842",
   "metadata": {},
   "outputs": [
    {
     "name": "stdout",
     "output_type": "stream",
     "text": [
      "process complete\n"
     ]
    }
   ],
   "source": [
    "import sqlite3\n",
    "import csv\n",
    "import random\n",
    "import math\n",
    "\n",
    "\n",
    "con= sqlite3.connect('tracks.db')\n",
    "cur= con.cursor()\n",
    "# droping tables\n",
    "cur.execute('DROP TABLE IF EXISTS Artist')\n",
    "cur.execute('DROP TABLE IF EXISTS Album')\n",
    "cur.execute('DROP TABLE IF EXISTS Track')\n",
    "\n",
    "# creating tables\n",
    "cur.execute('''CREATE TABLE Artist (\n",
    "    id INTEGER PRIMARY KEY AUTOINCREMENT NOT NULL UNIQUE, \n",
    "    artist_name TEXT)\n",
    " ''')\n",
    "\n",
    "cur.execute('''CREATE TABLE Album (\n",
    "    id INTEGER PRIMARY KEY AUTOINCREMENT NOT NULL UNIQUE, \n",
    "    album_name TEXT,\n",
    "    artist_id INTEGER\n",
    "    )''')\n",
    "\n",
    "cur.execute('''CREATE TABLE Track (\n",
    "    id INTEGER PRIMARY KEY AUTOINCREMENT NOT NULL UNIQUE, \n",
    "    track_name TEXT,\n",
    "    album_id INTEGER,  duration TEXT, rating REAL)\n",
    "    ''')\n",
    "\n",
    "\n",
    "\n",
    "f= open('songs.csv')\n",
    "reader= csv.DictReader(f)\n",
    "\n",
    "for row in reader:\n",
    "    duration= row['duration_ms']\n",
    "    duration=float(duration)*0.00001667 # millieseconnds to mins change.\n",
    "    mins= math.floor(duration)\n",
    "    duration_str= f'{mins} mins {math.floor(60*(duration- mins))} secs'\n",
    "    artist= row['artist_name']\n",
    "    track= row['track_name']\n",
    "    album= row['album_name']\n",
    "    rating= round(random.uniform(1,5),1)\n",
    "    cur.execute('INSERT OR IGNORE INTO Artist(artist_name) VALUES(?)', (artist,))\n",
    "    con.commit()\n",
    "    cur.execute('SELECT id from Artist where artist_name=?', (artist,))\n",
    "    artist_id= cur.fetchone()[0]\n",
    "    cur.execute('INSERT OR IGNORE INTO Album(album_name, artist_id) VALUES(?, ?)', (album,artist_id))\n",
    "    con.commit()\n",
    "    cur.execute('SELECT id from Album where album_name=? and artist_id=?', (album,artist_id))\n",
    "    album_id= cur.fetchone()[0]\n",
    "    cur.execute('INSERT OR IGNORE INTO Track(track_name,album_id ,  duration , rating ) VALUES(?, ?,?, ?)', (track,album_id,duration_str,rating))\n",
    "    con.commit()\n",
    "\n",
    "print('process complete')\n",
    "con.close()"
   ]
  },
  {
   "cell_type": "code",
   "execution_count": null,
   "id": "47cfe44a",
   "metadata": {},
   "outputs": [],
   "source": []
  }
 ],
 "metadata": {
  "kernelspec": {
   "display_name": "Python 3",
   "language": "python",
   "name": "python3"
  },
  "language_info": {
   "codemirror_mode": {
    "name": "ipython",
    "version": 3
   },
   "file_extension": ".py",
   "mimetype": "text/x-python",
   "name": "python",
   "nbconvert_exporter": "python",
   "pygments_lexer": "ipython3",
   "version": "3.8.8"
  }
 },
 "nbformat": 4,
 "nbformat_minor": 5
}
