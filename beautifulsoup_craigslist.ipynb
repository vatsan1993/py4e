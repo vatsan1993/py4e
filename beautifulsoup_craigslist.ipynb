{
 "cells": [
  {
   "cell_type": "code",
   "execution_count": 56,
   "id": "42891c9f",
   "metadata": {},
   "outputs": [
    {
     "name": "stdout",
     "output_type": "stream",
     "text": [
      "Requirement already satisfied: beautifulsoup4 in c:\\users\\vatsanaer3\\anaconda3\\lib\\site-packages (4.9.3)\n",
      "Requirement already satisfied: soupsieve>1.2 in c:\\users\\vatsanaer3\\anaconda3\\lib\\site-packages (from beautifulsoup4) (2.2.1)\n",
      "Requirement already satisfied: pandas in c:\\users\\vatsanaer3\\anaconda3\\lib\\site-packages (1.2.4)\n",
      "Requirement already satisfied: python-dateutil>=2.7.3 in c:\\users\\vatsanaer3\\anaconda3\\lib\\site-packages (from pandas) (2.8.1)\n",
      "Requirement already satisfied: numpy>=1.16.5 in c:\\users\\vatsanaer3\\anaconda3\\lib\\site-packages (from pandas) (1.20.1)\n",
      "Requirement already satisfied: pytz>=2017.3 in c:\\users\\vatsanaer3\\anaconda3\\lib\\site-packages (from pandas) (2021.1)\n",
      "Requirement already satisfied: six>=1.5 in c:\\users\\vatsanaer3\\anaconda3\\lib\\site-packages (from python-dateutil>=2.7.3->pandas) (1.15.0)\n",
      "Requirement already satisfied: requests in c:\\users\\vatsanaer3\\anaconda3\\lib\\site-packages (2.25.1)\n",
      "Requirement already satisfied: urllib3<1.27,>=1.21.1 in c:\\users\\vatsanaer3\\anaconda3\\lib\\site-packages (from requests) (1.26.4)\n",
      "Requirement already satisfied: chardet<5,>=3.0.2 in c:\\users\\vatsanaer3\\anaconda3\\lib\\site-packages (from requests) (4.0.0)\n",
      "Requirement already satisfied: certifi>=2017.4.17 in c:\\users\\vatsanaer3\\anaconda3\\lib\\site-packages (from requests) (2020.12.5)\n",
      "Requirement already satisfied: idna<3,>=2.5 in c:\\users\\vatsanaer3\\anaconda3\\lib\\site-packages (from requests) (2.10)\n",
      "Requirement already satisfied: pandas in c:\\users\\vatsanaer3\\anaconda3\\lib\\site-packages (1.2.4)\n",
      "Requirement already satisfied: pytz>=2017.3 in c:\\users\\vatsanaer3\\anaconda3\\lib\\site-packages (from pandas) (2021.1)\n",
      "Requirement already satisfied: python-dateutil>=2.7.3 in c:\\users\\vatsanaer3\\anaconda3\\lib\\site-packages (from pandas) (2.8.1)\n",
      "Requirement already satisfied: numpy>=1.16.5 in c:\\users\\vatsanaer3\\anaconda3\\lib\\site-packages (from pandas) (1.20.1)\n",
      "Requirement already satisfied: six>=1.5 in c:\\users\\vatsanaer3\\anaconda3\\lib\\site-packages (from python-dateutil>=2.7.3->pandas) (1.15.0)\n"
     ]
    }
   ],
   "source": [
    "!pip3 install beautifulsoup4\n",
    "!pip3 install pandas\n",
    "!pip3 install requests\n",
    "!pip3 install pandas"
   ]
  },
  {
   "cell_type": "code",
   "execution_count": 57,
   "id": "0ce0ce6d",
   "metadata": {},
   "outputs": [],
   "source": [
    "from bs4 import BeautifulSoup\n",
    "import requests\n",
    "import pandas as pd\n",
    "import os\n",
    "def getData(code):\n",
    "    url='https://newyork.craigslist.org/search/'+code\n",
    "    response=requests.get(url)\n",
    "    content= response.content\n",
    "    soup= BeautifulSoup(content)\n",
    "    data= soup.find_all('li', attrs= {'class':'result-row'})\n",
    "    if len(data)>0:\n",
    "        results= []\n",
    "        for item in data:\n",
    "            price= item.find('span').string\n",
    "            a_tag= item.find_all('a')[1]\n",
    "            link= a_tag['href']\n",
    "            title= a_tag.string\n",
    "            results.append([title,price, link])\n",
    "        return results"
   ]
  },
  {
   "cell_type": "code",
   "execution_count": 61,
   "id": "82acf53c",
   "metadata": {},
   "outputs": [
    {
     "name": "stdout",
     "output_type": "stream",
     "text": [
      "getting vga\n",
      "getting syp\n",
      "getting sya\n",
      "getting ela\n",
      "getting cta\n",
      "getting bka\n",
      "getting jwa\n",
      "getting fua\n",
      "getting moa\n",
      "getting pta\n"
     ]
    }
   ],
   "source": [
    "codes= ['vga', 'syp', 'sya','ela','cta','bka','jwa', 'fua', 'moa', 'pta']\n",
    "root=os.getcwd()\n",
    "if not os.path.isdir(os.path.join(root, 'data')):\n",
    "    os.mkdir(os.path.join(root, 'data'))\n",
    "for code in codes:\n",
    "    data= getData(code)\n",
    "    if len(data)>0:\n",
    "        print('getting '+code)\n",
    "        df= pd.DataFrame(data, columns= ['Title', 'Price', 'Link'])\n",
    "        df.to_csv('data/CGL_'+code+'.csv', index=None)\n"
   ]
  },
  {
   "cell_type": "code",
   "execution_count": null,
   "id": "b900393f",
   "metadata": {},
   "outputs": [],
   "source": []
  }
 ],
 "metadata": {
  "kernelspec": {
   "display_name": "Python 3",
   "language": "python",
   "name": "python3"
  },
  "language_info": {
   "codemirror_mode": {
    "name": "ipython",
    "version": 3
   },
   "file_extension": ".py",
   "mimetype": "text/x-python",
   "name": "python",
   "nbconvert_exporter": "python",
   "pygments_lexer": "ipython3",
   "version": "3.8.8"
  }
 },
 "nbformat": 4,
 "nbformat_minor": 5
}
