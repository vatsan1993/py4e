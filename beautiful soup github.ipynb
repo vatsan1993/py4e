{
 "cells": [
  {
   "cell_type": "code",
   "execution_count": 22,
   "id": "47bdcb0b",
   "metadata": {},
   "outputs": [],
   "source": [
    "from bs4 import BeautifulSoup as Bs\n",
    "import requests\n",
    "base_url ='https://github.com/topics'\n",
    "def getSoupObject(url):\n",
    "    soup= Bs(requests.get(url).text, 'html.parser')\n",
    "    return soup"
   ]
  },
  {
   "cell_type": "code",
   "execution_count": 24,
   "id": "40f6281e",
   "metadata": {},
   "outputs": [],
   "source": [
    "import sys\n",
    "def getRepoDetails(repo):\n",
    "     # extract repo, stars and user. number of projects and languages for the repo.\n",
    "    print(repo.prettify())\n",
    "    sys.exit(0)"
   ]
  },
  {
   "cell_type": "code",
   "execution_count": 25,
   "id": "da3565b0",
   "metadata": {
    "scrolled": true
   },
   "outputs": [],
   "source": [
    "def getBasicDetails(topic):\n",
    "    \n",
    "    \n",
    "    a_tag= topic.find(\"a\", attrs={'class': 'no-underline flex-1 d-flex flex-column'})\n",
    "    topic_url=  a_tag['href']\n",
    "    p_tags= topic.find_all('p')\n",
    "    topic_name= p_tags[0].string.strip()\n",
    "    topic_description= p_tags[1].string.strip()\n",
    "\n",
    "    \n",
    "       "
   ]
  },
  {
   "cell_type": "code",
   "execution_count": null,
   "id": "7eddf5f3",
   "metadata": {},
   "outputs": [],
   "source": [
    "def getFullDetails(soup):\n",
    "    # TODO: whiile there is next still available, click nexxt\n",
    "    topics= soup.find_all('div', attrs={'class':\"py-4 border-bottom d-flex flex-justify-between\"})\n",
    "    for topic in topics:\n",
    "        \n",
    "        \n",
    "        print('getting data for '+ topic_name)\n",
    "        topic_details=getSoupObject(base_url+topic_url)\n",
    "        repo_list= topic_details.find_all('div', attrs= {'class':'d-flex flex-justify-between my-3'})\n",
    "        for repo in repo_list:\n",
    "            getRepoDetails(repo)"
   ]
  }
 ],
 "metadata": {
  "kernelspec": {
   "display_name": "Python 3",
   "language": "python",
   "name": "python3"
  },
  "language_info": {
   "codemirror_mode": {
    "name": "ipython",
    "version": 3
   },
   "file_extension": ".py",
   "mimetype": "text/x-python",
   "name": "python",
   "nbconvert_exporter": "python",
   "pygments_lexer": "ipython3",
   "version": "3.8.8"
  }
 },
 "nbformat": 4,
 "nbformat_minor": 5
}
