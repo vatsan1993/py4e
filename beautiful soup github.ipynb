{
 "cells": [
  {
   "cell_type": "code",
   "execution_count": 13,
   "id": "47bdcb0b",
   "metadata": {},
   "outputs": [],
   "source": [
    "from bs4 import BeautifulSoup as Bs\n",
    "import pandas as pd\n",
    "import requests\n",
    "import os\n",
    "base_url ='https://github.com'\n",
    "def getSoupObject(url):\n",
    "    response= requests.get(url)\n",
    "    soup= Bs(response.content ,'html.parser')\n",
    "    return soup"
   ]
  },
  {
   "cell_type": "code",
   "execution_count": 14,
   "id": "40f6281e",
   "metadata": {},
   "outputs": [],
   "source": [
    "import sys\n",
    "def getRepoDetails(repo):\n",
    "    a_tags= repo.find_all('a')\n",
    "    repo_name= a_tags[1].string.strip()\n",
    "    repo_owner= a_tags[0].string.strip()\n",
    "    repo_url= a_tags[1]['href'].strip()\n",
    "    repo_owner_url= a_tags[0]['href'].strip()\n",
    "    stars= a_tags[-1].find('span', attrs={'class': 'Counter js-social-count'}).string.strip()\n",
    "    stars= float(stars[:-1])*1000\n",
    "    return repo_name, repo_owner, repo_url, repo_owner_url, stars"
   ]
  },
  {
   "cell_type": "code",
   "execution_count": 15,
   "id": "da3565b0",
   "metadata": {
    "scrolled": true
   },
   "outputs": [],
   "source": [
    "def getBasicDetails(topic):\n",
    "    a_tag= topic.find(\"a\", attrs={'class': 'no-underline flex-1 d-flex flex-column'})\n",
    "    topic_url=  a_tag['href']\n",
    "    p_tags= topic.find_all('p')\n",
    "    topic_name= p_tags[0].string.strip()\n",
    "    topic_description= p_tags[1].string.strip()\n",
    "    return topic_url, topic_name, topic_description"
   ]
  },
  {
   "cell_type": "code",
   "execution_count": 33,
   "id": "7eddf5f3",
   "metadata": {},
   "outputs": [],
   "source": [
    "def getFullDetails(soup):\n",
    "    # TODO: whiile there is next still available, click nexxt\n",
    "    topics= soup.find_all('div', attrs={'class':\"py-4 border-bottom d-flex flex-justify-between\"})\n",
    "    for topic in topics:\n",
    "        topic_url, topic_name, topic_description= getBasicDetails(topic)\n",
    "        \n",
    "        data_list=[]\n",
    "        url= base_url+topic_url\n",
    "        print('getting data for '+ topic_name, url)\n",
    "        topic_details=getSoupObject(base_url+topic_url)\n",
    "        repo_list= topic_details.find_all('div', attrs= {'class':'d-flex flex-justify-between my-3'})\n",
    "        for repo in repo_list:\n",
    "            repo_name, repo_owner, repo_url, repo_owner_url, stars=getRepoDetails(repo)\n",
    "            data= [repo_name, repo_owner, repo_url, repo_owner_url, stars]\n",
    "            data_list.append(data)\n",
    "        df= pd.DataFrame(data_list,columns= ['repo_name','repo_owner', 'repo_url', 'repo_owner_url', 'stars'])\n",
    "        df.to_csv('data/git_'+topic_name+'.csv', index=None)\n",
    "        df.to_json('data/git_'+topic_name+ '.json')"
   ]
  },
  {
   "cell_type": "code",
   "execution_count": 34,
   "id": "c57bdbba",
   "metadata": {},
   "outputs": [
    {
     "name": "stdout",
     "output_type": "stream",
     "text": [
      "getting data for 3D https://github.com/topics/3d\n",
      "getting data for Ajax https://github.com/topics/ajax\n",
      "getting data for Algorithm https://github.com/topics/algorithm\n",
      "getting data for Amp https://github.com/topics/amphp\n",
      "getting data for Android https://github.com/topics/android\n",
      "getting data for Angular https://github.com/topics/angular\n",
      "getting data for Ansible https://github.com/topics/ansible\n",
      "getting data for API https://github.com/topics/api\n",
      "getting data for Arduino https://github.com/topics/arduino\n",
      "getting data for ASP.NET https://github.com/topics/aspnet\n",
      "getting data for Atom https://github.com/topics/atom\n",
      "getting data for Awesome Lists https://github.com/topics/awesome\n",
      "getting data for Amazon Web Services https://github.com/topics/aws\n",
      "getting data for Azure https://github.com/topics/azure\n",
      "getting data for Babel https://github.com/topics/babel\n",
      "getting data for Bash https://github.com/topics/bash\n",
      "getting data for Bitcoin https://github.com/topics/bitcoin\n",
      "getting data for Bootstrap https://github.com/topics/bootstrap\n",
      "getting data for Bot https://github.com/topics/bot\n",
      "getting data for C https://github.com/topics/c\n",
      "getting data for Chrome https://github.com/topics/chrome\n",
      "getting data for Chrome extension https://github.com/topics/chrome-extension\n",
      "getting data for Command line interface https://github.com/topics/cli\n",
      "getting data for Clojure https://github.com/topics/clojure\n",
      "getting data for Code quality https://github.com/topics/code-quality\n",
      "getting data for Code review https://github.com/topics/code-review\n",
      "getting data for Compiler https://github.com/topics/compiler\n",
      "getting data for Continuous integration https://github.com/topics/continuous-integration\n",
      "getting data for COVID-19 https://github.com/topics/covid-19\n",
      "getting data for C++ https://github.com/topics/cpp\n"
     ]
    }
   ],
   "source": [
    "root=os.getcwd()# change on other computers\n",
    "if not os.path.isdir(os.path.join(root, 'data')):\n",
    "    os.mkdir(os.path.join(root, 'data'))\n",
    "soup= getSoupObject(base_url+'/topics')\n",
    "getFullDetails(soup)"
   ]
  },
  {
   "cell_type": "code",
   "execution_count": null,
   "id": "c8c8ff5f",
   "metadata": {},
   "outputs": [],
   "source": []
  }
 ],
 "metadata": {
  "kernelspec": {
   "display_name": "Python 3",
   "language": "python",
   "name": "python3"
  },
  "language_info": {
   "codemirror_mode": {
    "name": "ipython",
    "version": 3
   },
   "file_extension": ".py",
   "mimetype": "text/x-python",
   "name": "python",
   "nbconvert_exporter": "python",
   "pygments_lexer": "ipython3",
   "version": "3.8.8"
  }
 },
 "nbformat": 4,
 "nbformat_minor": 5
}
