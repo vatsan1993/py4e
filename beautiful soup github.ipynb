{
 "cells": [
  {
   "cell_type": "code",
   "execution_count": 64,
   "id": "47bdcb0b",
   "metadata": {},
   "outputs": [],
   "source": [
    "from bs4 import BeautifulSoup as Bs\n",
    "import requests\n",
    "base_url ='https://github.com'\n",
    "def getSoupObject(url):\n",
    "    response= requests.get(url)\n",
    "    soup= Bs(response.content ,'html.parser')\n",
    "    return soup"
   ]
  },
  {
   "cell_type": "code",
   "execution_count": 83,
   "id": "40f6281e",
   "metadata": {},
   "outputs": [],
   "source": [
    "import sys\n",
    "def getRepoDetails(repo):\n",
    "     # extract repo, stars and user. number of projects and languages for the repo.\n",
    "    a_tags= repo.find_all('a')\n",
    "    repo_name= a_tags[1].string.strip()\n",
    "    repo_owner= a_tags[0].string.strip()\n",
    "    repo_url= a_tags[1]['href'].strip()\n",
    "    repo_owner_url= a_tags[0]['href'].strip()\n",
    "    repo_name,repo_owner,repo_url,repo_owner_url\n",
    "    sys.exit(0)"
   ]
  },
  {
   "cell_type": "code",
   "execution_count": 84,
   "id": "da3565b0",
   "metadata": {
    "scrolled": true
   },
   "outputs": [],
   "source": [
    "def getBasicDetails(topic):\n",
    "    a_tag= topic.find(\"a\", attrs={'class': 'no-underline flex-1 d-flex flex-column'})\n",
    "    topic_url=  a_tag['href']\n",
    "    p_tags= topic.find_all('p')\n",
    "    topic_name= p_tags[0].string.strip()\n",
    "    topic_description= p_tags[1].string.strip()\n",
    "    return topic_url, topic_name, topic_description"
   ]
  },
  {
   "cell_type": "code",
   "execution_count": 85,
   "id": "7eddf5f3",
   "metadata": {},
   "outputs": [],
   "source": [
    "def getFullDetails(soup):\n",
    "    # TODO: whiile there is next still available, click nexxt\n",
    "    topics= soup.find_all('div', attrs={'class':\"py-4 border-bottom d-flex flex-justify-between\"})\n",
    "    for topic in topics:\n",
    "        topic_url, topic_name, topic_description= getBasicDetails(topic)    \n",
    "        url= base_url+topic_url\n",
    "        print('getting data for '+ topic_name, url)\n",
    "        topic_details=getSoupObject(base_url+topic_url)\n",
    "        repo_list= topic_details.find_all('div', attrs= {'class':'d-flex flex-justify-between my-3'})\n",
    "        for repo in repo_list:\n",
    "            getRepoDetails(repo)\n",
    "            break"
   ]
  },
  {
   "cell_type": "code",
   "execution_count": 86,
   "id": "c57bdbba",
   "metadata": {},
   "outputs": [
    {
     "name": "stdout",
     "output_type": "stream",
     "text": [
      "getting data for 3D https://github.com/topics/3d\n",
      "three.js mrdoob /mrdoob/three.js /mrdoob\n"
     ]
    },
    {
     "ename": "SystemExit",
     "evalue": "0",
     "output_type": "error",
     "traceback": [
      "An exception has occurred, use %tb to see the full traceback.\n",
      "\u001b[1;31mSystemExit\u001b[0m\u001b[1;31m:\u001b[0m 0\n"
     ]
    }
   ],
   "source": [
    "soup= getSoupObject(base_url+'/topics')\n",
    "getFullDetails(soup)"
   ]
  },
  {
   "cell_type": "code",
   "execution_count": null,
   "id": "c8c8ff5f",
   "metadata": {},
   "outputs": [],
   "source": []
  }
 ],
 "metadata": {
  "kernelspec": {
   "display_name": "Python 3",
   "language": "python",
   "name": "python3"
  },
  "language_info": {
   "codemirror_mode": {
    "name": "ipython",
    "version": 3
   },
   "file_extension": ".py",
   "mimetype": "text/x-python",
   "name": "python",
   "nbconvert_exporter": "python",
   "pygments_lexer": "ipython3",
   "version": "3.8.8"
  }
 },
 "nbformat": 4,
 "nbformat_minor": 5
}
